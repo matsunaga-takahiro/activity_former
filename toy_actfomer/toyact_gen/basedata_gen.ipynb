{
 "cells": [
  {
   "cell_type": "markdown",
   "metadata": {},
   "source": [
    "ネットワークデータや諸条件データの生成"
   ]
  },
  {
   "cell_type": "code",
   "execution_count": 32,
   "metadata": {},
   "outputs": [],
   "source": [
    "import pandas as pd \n",
    "import numpy as np \n",
    "import os\n",
    "import random"
   ]
  },
  {
   "cell_type": "markdown",
   "metadata": {},
   "source": [
    "ブラエスのネットワーク"
   ]
  },
  {
   "cell_type": "code",
   "execution_count": 33,
   "metadata": {},
   "outputs": [],
   "source": [
    "I = np.eye(4) # 滞在OK\n",
    "I[0, 1] = 1\n",
    "I[1, 0] = 1\n",
    "I[0, 2] = 1\n",
    "I[2, 0] = 1\n",
    "I[1, 3] = 1\n",
    "I[3, 1] = 1\n",
    "I[2, 3] = 1\n",
    "I[3, 2] = 1\n",
    "I[1, 2] = 1\n",
    "I[2, 1] = 1\n",
    "\n",
    "df_node = pd.read_csv('input/node.csv') # ノード情報"
   ]
  },
  {
   "cell_type": "code",
   "execution_count": 34,
   "metadata": {},
   "outputs": [
    {
     "name": "stdout",
     "output_type": "stream",
     "text": [
      "   nodeid  work  shop  leisure  x  y\n",
      "0       0     0     0        1  0  0\n",
      "1       1     1     0        0  1  0\n",
      "2       2     1     0        0  0  1\n",
      "3       3     0     1        0  1  1\n"
     ]
    }
   ],
   "source": [
    "print(df_node)"
   ]
  },
  {
   "cell_type": "markdown",
   "metadata": {},
   "source": [
    "ユーザデータの用意"
   ]
  },
  {
   "cell_type": "code",
   "execution_count": 35,
   "metadata": {},
   "outputs": [],
   "source": [
    "N = 200 # user数\n",
    "df_indivi = pd.DataFrame(columns=['userid', 'homenode', 'worktime', 'worknode', 'workstart', 'workend'])\n",
    "for i in range(N):\n",
    "    userid = i \n",
    "    ran1 = random.random()\n",
    "    ran2 = random.random()\n",
    "    homenode = 0 if ran2 < 0.5 else 3 \n",
    "    worktime = 0 if ran1 < 0.3 else 8 # 出勤しないか，8時間出勤か\n",
    "    worknode = homenode if worktime == 0 else random.randint(1, 2)\n",
    "    workstart = 0 if worktime == 0 else random.choice([8, 9, 10])\n",
    "    workend = workstart + worktime + 1 + random.randint(0, 3) # 休憩1時間 + 残業時間\n",
    "\n",
    "    new_row = {\n",
    "        'userid': userid,\n",
    "        'homenode': homenode,\n",
    "        'worktime': worktime,\n",
    "        'worknode': worknode,\n",
    "        'workstart': workstart,\n",
    "        'workend': workend\n",
    "    }\n",
    "    df_new_row = pd.DataFrame([new_row])\n",
    "    df_indivi = pd.concat([df_indivi, df_new_row], ignore_index=True)"
   ]
  },
  {
   "cell_type": "code",
   "execution_count": 36,
   "metadata": {},
   "outputs": [
    {
     "name": "stdout",
     "output_type": "stream",
     "text": [
      "    userid homenode worktime worknode workstart workend\n",
      "0        0        0        8        1         8      18\n",
      "1        1        3        0        3         0       2\n",
      "2        2        3        0        3         0       2\n",
      "3        3        0        8        1         9      20\n",
      "4        4        0        8        2         8      17\n",
      "..     ...      ...      ...      ...       ...     ...\n",
      "195    195        3        0        3         0       2\n",
      "196    196        3        0        3         0       2\n",
      "197    197        0        0        0         0       3\n",
      "198    198        0        0        0         0       1\n",
      "199    199        0        0        0         0       1\n",
      "\n",
      "[200 rows x 6 columns]\n"
     ]
    }
   ],
   "source": [
    "print(df_indivi)\n",
    "df_indivi.to_csv('input/indivi.csv', index=False) # ユーザ情報"
   ]
  },
  {
   "cell_type": "code",
   "execution_count": null,
   "metadata": {},
   "outputs": [],
   "source": []
  }
 ],
 "metadata": {
  "kernelspec": {
   "display_name": "myenv",
   "language": "python",
   "name": "python3"
  },
  "language_info": {
   "codemirror_mode": {
    "name": "ipython",
    "version": 3
   },
   "file_extension": ".py",
   "mimetype": "text/x-python",
   "name": "python",
   "nbconvert_exporter": "python",
   "pygments_lexer": "ipython3",
   "version": "3.9.18"
  }
 },
 "nbformat": 4,
 "nbformat_minor": 2
}
