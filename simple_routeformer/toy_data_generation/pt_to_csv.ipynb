{
 "cells": [
  {
   "cell_type": "markdown",
   "metadata": {},
   "source": [
    "ptファイルをいつものcsvに変換"
   ]
  },
  {
   "cell_type": "code",
   "execution_count": 2,
   "metadata": {},
   "outputs": [],
   "source": [
    "import pandas as pd \n",
    "import numpy as np \n",
    "import torch"
   ]
  },
  {
   "cell_type": "code",
   "execution_count": 3,
   "metadata": {},
   "outputs": [
    {
     "name": "stdout",
     "output_type": "stream",
     "text": [
      "tensor([[0.5000, 1.0000],\n",
      "        [0.4000, 0.0000],\n",
      "        [0.2000, 1.0000],\n",
      "        [0.0000, 0.0000],\n",
      "        [0.6000, 1.0000],\n",
      "        [0.5000, 0.0000],\n",
      "        [0.4000, 1.0000],\n",
      "        [0.2000, 0.0000],\n",
      "        [0.8000, 1.0000],\n",
      "        [0.6000, 0.0000],\n",
      "        [0.5000, 1.0000],\n",
      "        [0.4000, 0.0000],\n",
      "        [1.0000, 1.0000],\n",
      "        [0.8000, 0.0000],\n",
      "        [0.6000, 1.0000],\n",
      "        [0.5000, 0.0000]])\n"
     ]
    }
   ],
   "source": [
    "pt_path = '/Users/matsunagatakahiro/Desktop/res2025/ActFormer/toy_data_generation/node_features_matrix.pt'\n",
    "loaded_tensor = torch.load(pt_path)\n",
    "print(loaded_tensor) # 特徴量行列．idは排除"
   ]
  },
  {
   "cell_type": "code",
   "execution_count": 4,
   "metadata": {},
   "outputs": [
    {
     "name": "stdout",
     "output_type": "stream",
     "text": [
      "tensor([[0, 0, 0, 1, 0, 0],\n",
      "        [1, 1, 0, 0, 1, 0],\n",
      "        [2, 1, 0, 0, 0, 1],\n",
      "        [3, 0, 1, 0, 1, 1]])\n"
     ]
    }
   ],
   "source": [
    "csv_path = '/Users/matsunagatakahiro/Desktop/res2025/ActFormer/toyact_gen/input/node.csv'\n",
    "df = pd.read_csv(csv_path)\n",
    "df_pt = torch.tensor(df.values)\n",
    "print(df_pt)"
   ]
  },
  {
   "cell_type": "code",
   "execution_count": 5,
   "metadata": {},
   "outputs": [
    {
     "name": "stdout",
     "output_type": "stream",
     "text": [
      "   nodeid  work  shop  leisure  x  y\n",
      "0       0     0     0        1  0  0\n",
      "1       1     1     0        0  1  0\n",
      "2       2     1     0        0  0  1\n",
      "3       3     0     1        0  1  1\n"
     ]
    }
   ],
   "source": [
    "df = pd.read_csv(csv_path)\n",
    "print(df)"
   ]
  },
  {
   "cell_type": "code",
   "execution_count": 6,
   "metadata": {},
   "outputs": [
    {
     "name": "stdout",
     "output_type": "stream",
     "text": [
      "tensor([[1, 1, 0, 0, 1, 0, 0, 0, 0, 0, 0, 0, 0, 0, 0, 0],\n",
      "        [1, 1, 1, 0, 0, 1, 0, 0, 0, 0, 0, 0, 0, 0, 0, 0],\n",
      "        [0, 1, 1, 1, 0, 0, 1, 0, 0, 0, 0, 0, 0, 0, 0, 0],\n",
      "        [0, 0, 1, 1, 0, 0, 0, 1, 0, 0, 0, 0, 0, 0, 0, 0],\n",
      "        [1, 0, 0, 0, 1, 1, 0, 0, 1, 0, 0, 0, 0, 0, 0, 0],\n",
      "        [0, 1, 0, 0, 1, 1, 1, 0, 0, 1, 0, 0, 0, 0, 0, 0],\n",
      "        [0, 0, 1, 0, 0, 1, 1, 1, 0, 0, 1, 0, 0, 0, 0, 0],\n",
      "        [0, 0, 0, 1, 0, 0, 1, 1, 0, 0, 0, 1, 0, 0, 0, 0],\n",
      "        [0, 0, 0, 0, 1, 0, 0, 0, 1, 1, 0, 0, 1, 0, 0, 0],\n",
      "        [0, 0, 0, 0, 0, 1, 0, 0, 1, 1, 1, 0, 0, 1, 0, 0],\n",
      "        [0, 0, 0, 0, 0, 0, 1, 0, 0, 1, 1, 1, 0, 0, 1, 0],\n",
      "        [0, 0, 0, 0, 0, 0, 0, 1, 0, 0, 1, 1, 0, 0, 0, 1],\n",
      "        [0, 0, 0, 0, 0, 0, 0, 0, 1, 0, 0, 0, 1, 1, 0, 0],\n",
      "        [0, 0, 0, 0, 0, 0, 0, 0, 0, 1, 0, 0, 1, 1, 1, 0],\n",
      "        [0, 0, 0, 0, 0, 0, 0, 0, 0, 0, 1, 0, 0, 1, 1, 1],\n",
      "        [0, 0, 0, 0, 0, 0, 0, 0, 0, 0, 0, 1, 0, 0, 1, 1]], dtype=torch.int32)\n",
      "torch.Size([16, 16])\n"
     ]
    }
   ],
   "source": [
    "adj_path = '/Users/matsunagatakahiro/Desktop/res2025/ActFormer/toy_data_generation/grid_adjacency_matrix.pt'\n",
    "loaded_tensor = torch.load(adj_path)\n",
    "print(loaded_tensor) # 隣接行列．idは排除\n",
    "print(loaded_tensor.shape) # (n_nodes, n_nodes)"
   ]
  },
  {
   "cell_type": "code",
   "execution_count": 6,
   "metadata": {},
   "outputs": [
    {
     "name": "stdout",
     "output_type": "stream",
     "text": [
      "[0. 0. 0. 0.]\n"
     ]
    }
   ],
   "source": [
    "testnp = np.zeros(4)\n",
    "print(testnp)"
   ]
  },
  {
   "cell_type": "code",
   "execution_count": 7,
   "metadata": {},
   "outputs": [
    {
     "name": "stdout",
     "output_type": "stream",
     "text": [
      "[0. 0. 0. 1.]\n"
     ]
    }
   ],
   "source": [
    "testnp[3] = 1\n",
    "print(testnp)"
   ]
  },
  {
   "cell_type": "code",
   "execution_count": null,
   "metadata": {},
   "outputs": [],
   "source": []
  }
 ],
 "metadata": {
  "kernelspec": {
   "display_name": "myenv",
   "language": "python",
   "name": "python3"
  },
  "language_info": {
   "codemirror_mode": {
    "name": "ipython",
    "version": 3
   },
   "file_extension": ".py",
   "mimetype": "text/x-python",
   "name": "python",
   "nbconvert_exporter": "python",
   "pygments_lexer": "ipython3",
   "version": "3.9.18"
  }
 },
 "nbformat": 4,
 "nbformat_minor": 2
}
