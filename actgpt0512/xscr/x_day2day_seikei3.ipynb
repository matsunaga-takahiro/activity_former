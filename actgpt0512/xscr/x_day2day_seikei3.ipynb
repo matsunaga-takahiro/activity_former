{
 "cells": [
  {
   "cell_type": "markdown",
   "id": "1d9e7ccb",
   "metadata": {},
   "source": [
    "PPのトリップデータからday2dayデータに変換"
   ]
  },
  {
   "cell_type": "markdown",
   "id": "f37383a3",
   "metadata": {},
   "source": [
    "この次に1週間ごとのデータに分割（pp_data_seikei.py）"
   ]
  },
  {
   "cell_type": "markdown",
   "id": "8da03408",
   "metadata": {},
   "source": [
    "5つのデータをマージする"
   ]
  },
  {
   "cell_type": "markdown",
   "id": "fe8263d6",
   "metadata": {},
   "source": [
    "の前に長さ揃ってなかったので揃える．．"
   ]
  },
  {
   "cell_type": "code",
   "execution_count": 62,
   "id": "f07821e1",
   "metadata": {},
   "outputs": [
    {
     "name": "stdout",
     "output_type": "stream",
     "text": [
      "max_cols 246\n",
      "max_cols 91\n",
      "max_cols 184\n",
      "max_cols 691\n",
      "max_cols 527\n"
     ]
    }
   ],
   "source": [
    "import csv\n",
    "\n",
    "type_list = ['01', '02', '03', '_toyosu', '_shibu21']\n",
    "for type_ in type_list:\n",
    "    path = '/Users/matsunagatakahiro/Desktop/jrres/PPcameraTG/gpslog/actlog' + type_ + '_for_input.csv'\n",
    "    with open(path, newline='') as f:\n",
    "        # lines = f.readlines()\n",
    "        reader = csv.reader(f)\n",
    "        max_cols = max(len(row) for row in reader)\n",
    "        print('max_cols', max_cols)\n",
    "        "
   ]
  },
  {
   "cell_type": "code",
   "execution_count": 63,
   "id": "96623570",
   "metadata": {},
   "outputs": [
    {
     "name": "stdout",
     "output_type": "stream",
     "text": [
      "['23002', '<b>', '3', '5', '2', '3', '2', '1', '<e>', '<b>', '3', '2', '3', '2', '1', '<e>', '<b>', '3', '2', '3', '2', '5', '2', '1', '<e>', '<b>', '3', '2', '3', '2', '1', '<e>', '<b>', '3', '2', '3', '2', '1', '<e>', '<b>', '955', '<e>', '<b>', '955', '<e>', '<e>']\n",
      "['23002', '<b>', '2', '1', '3', '2', '1', '<e>', '<b>', '3', '2', '3', '2', '5', '2', '1', '<e>', '<b>', '955', '<e>', '<b>', '955', '<e>', '<b>', '955', '<e>', '<b>', '955', '<e>', '<b>', '955', '<e>', '<e>']\n",
      "['23003', '<b>', '3', '1', '<e>', '<b>', '955', '<e>', '<b>', '955', '<e>', '<b>', '3', '1', '<e>', '<b>', '955', '<e>', '<b>', '2', '1', '<e>', '<b>', '2', '1', '<e>', '<e>']\n",
      "['23003', '<b>', '2', '1', '<e>', '<b>', '955', '<e>', '<b>', '955', '<e>', '<b>', '955', '<e>', '<b>', '955', '<e>', '<b>', '955', '<e>', '<b>', '955', '<e>', '<e>']\n",
      "['23003', '<b>', '2', '1', '<e>', '<b>', '955', '<e>', '<b>', '955', '<e>', '<b>', '955', '<e>', '<b>', '955', '<e>', '<b>', '955', '<e>', '<b>', '2', '1', '<e>', '<e>']\n",
      "max_cols 67\n",
      "['23252', '<b>', '5', '1', '<e>', '<b>', '955', '<e>', '<b>', '955', '<e>', '<b>', '955', '<e>', '<b>', '955', '<e>', '<b>', '955', '<e>', '<b>', '955', '<e>', '<e>']\n",
      "['23255', '<b>', '2', '1', '5', '1', '<e>', '<b>', '955', '<e>', '<b>', '955', '<e>', '<b>', '955', '<e>', '<b>', '955', '<e>', '<b>', '955', '<e>', '<b>', '955', '<e>', '<e>']\n",
      "['23255', '<b>', '2', '1', '<e>', '<b>', '955', '<e>', '<b>', '3', '2', '3.0', '1', '<e>', '<b>', '955', '<e>', '<b>', '955', '<e>', '<b>', '955', '<e>', '<b>', '955', '<e>', '<e>']\n",
      "['23256', '<b>', '2', '1', '<e>', '<b>', '955', '<e>', '<b>', '955', '<e>', '<b>', '4', '3', '1', '<e>', '<b>', '955', '<e>', '<b>', '955', '<e>', '<b>', '955', '<e>', '<e>']\n",
      "['23256', '<b>', '3', '4', '2', '1', '<e>', '<b>', '955', '<e>', '<b>', '955', '<e>', '<b>', '955', '<e>', '<b>', '955', '<e>', '<b>', '955', '<e>', '<b>', '955', '<e>', '<e>']\n",
      "max_cols 38\n",
      "['23604', '<b>', '2', '3', '1', '<e>', '<b>', '4', '1', '<e>', '<b>', '4', '1', '<e>', '<b>', '955', '<e>', '<b>', '3', '1', '<e>', '<b>', '3', '2', '1', '<e>', '<b>', '955', '<e>', '<e>']\n",
      "['23604', '<b>', '3', '1', '<e>', '<b>', '955', '<e>', '<b>', '2', '5', '2', '1', '<e>', '<b>', '955', '<e>', '<b>', '3', '2', '1', '<e>', '<b>', '3', '1', '<e>', '<b>', '3', '2', '1', '<e>', '<e>']\n",
      "['23604', '<b>', '2', '1', '<e>', '<b>', '955', '<e>', '<b>', '955', '<e>', '<b>', '955', '<e>', '<b>', '955', '<e>', '<b>', '955', '<e>', '<b>', '955', '<e>', '<e>']\n",
      "['23606', '<b>', '3', '2', '3', '2', '1', '<e>', '<b>', '3', '4', '3', '5', '1', '<e>', '<b>', '3', '2', '1', '<e>', '<b>', '2', '1', '<e>', '<b>', '5', '1', '<e>', '<b>', '5', '1', '<e>', '<b>', '3', '2', '1', '<e>', '<e>']\n",
      "['23606', '<b>', '3', '2', '1', '<e>', '<b>', '5', '3', '5', '1', '<e>', '<b>', '3', '2', '3', '1', '<e>', '<b>', '5', '2', '1', '<e>', '<b>', '2', '1', '<e>', '<b>', '3', '1', '<e>', '<b>', '3', '2', '3', '1', '<e>', '<e>']\n",
      "max_cols 52\n",
      "['4049', '<b>', '2', '1', '<e>', '<b>', '3', '1', '<e>', '<b>', '4', '3', '1', '<e>', '<b>', '3', '1', '2', '1', '<e>', '<b>', '3', '1', '<e>', '<b>', '3', '1', '<e>', '<b>', '955', '<e>', '<e>']\n",
      "['4049', '<b>', '3', '1', '<e>', '<b>', '5', '3', '1', '<e>', '<b>', '3', '1', '<e>', '<b>', '3', '1', '<e>', '<b>', '5', '2', '1', '<e>', '<b>', '2', '1', '<e>', '<b>', '3', '2', '1', '<e>', '<e>']\n",
      "['4049', '<b>', '3', '2', '1', '<e>', '<b>', '3', '2', '1', '<e>', '<b>', '3', '2', '1', '<e>', '<b>', '955', '<e>', '<b>', '955', '<e>', '<b>', '955', '<e>', '<b>', '955', '<e>', '<e>']\n",
      "['4049', '<b>', '3', '2', '1', '<e>', '<b>', '3', '2', '1', '<e>', '<b>', '3', '2', '1', '<e>', '<b>', '3', '2', '1', '<e>', '<b>', '955', '<e>', '<b>', '2', '1', '<e>', '<b>', '3', '2', '1', '<e>', '<e>']\n",
      "['4049', '<b>', '3', '2', '1', '<e>', '<b>', '3', '2', '1', '<e>', '<b>', '3', '2', '1', '<e>', '<b>', '3', '2', '1', '<e>', '<b>', '2', '1', '<e>', '<b>', '955', '<e>', '<b>', '955', '<e>', '<e>']\n",
      "max_cols 84\n",
      "['21404', '<b>', '3', '2', '1', '<e>', '<b>', '2', '1', '<e>', '<b>', '955', '<e>', '<b>', '3', '4', '2', '1', '<e>', '<b>', '3', '1', '<e>', '<b>', '4', '3', '2', '1', '<e>', '<b>', '955', '<e>', '<e>']\n",
      "['21404', '<b>', '4', '3', '2', '1', '<e>', '<b>', '955', '<e>', '<b>', '3', '4', '1', '<e>', '<b>', '3', '4', '1', '<e>', '<b>', '955', '<e>', '<b>', '955', '<e>', '<b>', '2', '1', '<e>', '<e>']\n",
      "['21404', '<b>', '3', '1', '<e>', '<b>', '3', '2', '1', '<e>', '<b>', '3', '1', '<e>', '<b>', '3', '2', '1', '<e>', '<b>', '955', '<e>', '<b>', '2', '1', '<e>', '<b>', '955', '<e>', '<e>']\n",
      "['21404', '<b>', '3', '2', '1', '<e>', '<b>', '955', '<e>', '<b>', '3', '4', '2', '1', '<e>', '<b>', '3', '2', '1', '<e>', '<b>', '955', '<e>', '<b>', '955', '<e>', '<b>', '955', '<e>', '<e>']\n",
      "['21404', '<b>', '3', '2', '1', '<e>', '<b>', '3', '2', '1', '<e>', '<b>', '955', '<e>', '<b>', '955', '<e>', '<b>', '955', '<e>', '<b>', '955', '<e>', '<b>', '955', '<e>', '<e>']\n",
      "max_cols 59\n"
     ]
    }
   ],
   "source": [
    "for type_ in type_list:\n",
    "    path = '/Users/matsunagatakahiro/Desktop/jrres/PPcameraTG/gpslog/actlog' + type_ + '_for_input.csv'\n",
    "    with open(path, newline='') as f:\n",
    "        reader = csv.reader(f)\n",
    "        rows = list(reader)\n",
    "    # 2. 各行の空要素・None・空白文字列を除外\n",
    "    cleaned_rows = [[cell for cell in row if cell not in [None, '', 'NaN']] for row in rows]\n",
    "\n",
    "    # 3. 必要であれば DataFrame にはせずリストで扱う（非矩形）\n",
    "    # 例えば：確認用\n",
    "    for row in cleaned_rows[:5]:\n",
    "        print(row)\n",
    "\n",
    "    # 4. 保存するなら：1行ずつCSV形式で出力（列数バラバラOK）\n",
    "    output_path = path.replace('.csv', '_cleaned.csv')\n",
    "    with open(output_path, 'w', newline='') as f:\n",
    "        writer = csv.writer(f)\n",
    "        writer.writerows(cleaned_rows)\n",
    "\n",
    "    with open(output_path, newline='') as f:\n",
    "        reader = csv.reader(f)\n",
    "        rows = list(reader)\n",
    "        # 最も長い行の長さを取得\n",
    "        max_cols = max(len(row) for row in rows)\n",
    "        print('max_cols', max_cols)\n",
    "\n",
    "    "
   ]
  },
  {
   "cell_type": "code",
   "execution_count": 64,
   "id": "8ebb6919",
   "metadata": {},
   "outputs": [
    {
     "name": "stdout",
     "output_type": "stream",
     "text": [
      "✔️ 結合済みファイルを保存: /Users/matsunagatakahiro/Desktop/jrres/PPcameraTG/gpslog/actlog_finalinput.csv, /Users/matsunagatakahiro/Desktop/jrres/PPcameraTG/gpslog/timelog_finalinput.csv\n",
      "🧱 最大列数: 59, 総行数: 3992, 3992\n"
     ]
    }
   ],
   "source": [
    "import csv\n",
    "\n",
    "type_list = ['01', '02', '03', '_toyosu', '_shibu21']\n",
    "act_all_rows = [] # 付け足す\n",
    "time_all_rows = [] # 付け足す\n",
    "\n",
    "act_max_cols = 0\n",
    "time_max_cols = 0\n",
    "\n",
    "for type_ in type_list:\n",
    "    act_path = f'/Users/matsunagatakahiro/Desktop/jrres/PPcameraTG/gpslog/actlog{type_}_for_input.csv'\n",
    "    time_path = f'/Users/matsunagatakahiro/Desktop/jrres/PPcameraTG/gpslog/timelog{type_}_for_input.csv'\n",
    "\n",
    "    # 読み込み + 空文字・None・\"NaN\"除去\n",
    "    with open(act_path, newline='') as f:\n",
    "        reader = csv.reader(f)\n",
    "        act_cleaned_rows = [[cell for cell in row if cell not in [None, '', 'NaN']] for row in reader]\n",
    "    \n",
    "    with open(time_path, newline='') as f:\n",
    "        reader = csv.reader(f)\n",
    "        time_cleaned_rows = [[cell for cell in row if cell not in [None, '', 'NaN']] for row in reader]\n",
    "\n",
    "    # 最大列数を更新\n",
    "    for row in act_cleaned_rows:\n",
    "        act_max_cols = max(act_max_cols, len(row))\n",
    "    \n",
    "    for row in time_cleaned_rows:\n",
    "        time_max_cols = max(time_max_cols, len(row))\n",
    "\n",
    "    act_all_rows.extend(act_cleaned_rows)\n",
    "    time_all_rows.extend(time_cleaned_rows)\n",
    "\n",
    "# 行の長さを最大列数にそろえ、<p>で埋める\n",
    "act_padded_rows = [row + ['<p>'] * (act_max_cols - len(row)) for row in act_all_rows]\n",
    "time_padded_rows = [row + ['<p>'] * (time_max_cols - len(row)) for row in time_all_rows]\n",
    "\n",
    "# 結合結果を保存\n",
    "act_output_path = '/Users/matsunagatakahiro/Desktop/jrres/PPcameraTG/gpslog/actlog_finalinput.csv' # これが最終的なインプットになる\n",
    "time_output_path = '/Users/matsunagatakahiro/Desktop/jrres/PPcameraTG/gpslog/timelog_finalinput.csv' # これが最終的なインプットになる\n",
    "\n",
    "with open(act_output_path, 'w', newline='') as f:\n",
    "    writer = csv.writer(f)\n",
    "    writer.writerows(act_padded_rows)\n",
    "\n",
    "with open(time_output_path, 'w', newline='') as f:\n",
    "    writer = csv.writer(f)\n",
    "    writer.writerows(time_padded_rows)\n",
    "\n",
    "print(f\"✔️ 結合済みファイルを保存: {act_output_path}, {time_output_path}\")\n",
    "print(f\"🧱 最大列数: {max_cols}, 総行数: {len(act_padded_rows)}, {len(time_padded_rows)}\")"
   ]
  },
  {
   "cell_type": "markdown",
   "id": "d3650bfc",
   "metadata": {},
   "source": [
    "時間の表現に直す"
   ]
  },
  {
   "cell_type": "code",
   "execution_count": 68,
   "id": "cbd9b9ea",
   "metadata": {},
   "outputs": [
    {
     "name": "stderr",
     "output_type": "stream",
     "text": [
      "/var/folders/_k/qgnv6b3961q5nz5l1v78bw080000gn/T/ipykernel_9930/168936303.py:13: FutureWarning: DataFrame.applymap has been deprecated. Use DataFrame.map instead.\n",
      "  df_time = df_time.applymap(lambda x: convert_datetime_to_hour(x) if pd.notna(x) else x)\n"
     ]
    }
   ],
   "source": [
    "def convert_datetime_to_hour(token):\n",
    "    try:\n",
    "        # 時刻が含まれる場合（フォーマット付き日付）\n",
    "        dt = pd.to_datetime(token, errors='raise')\n",
    "        if dt.hour == 0 and \"00:00:00\" not in token:\n",
    "            return 25 # token  # たとえば \"2022-12-21\" のような場合\n",
    "        return str(dt.hour)\n",
    "    except Exception:\n",
    "        # 変換できない場合はそのまま返す\n",
    "        return token\n",
    "## \n",
    "df_time = pd.read_csv('/Users/matsunagatakahiro/Desktop/jrres/PPcameraTG/gpslog/timelog_finalinput.csv', header=None)\n",
    "df_time = df_time.applymap(lambda x: convert_datetime_to_hour(x) if pd.notna(x) else x)\n",
    "# converted_row = [convert_datetime_to_hour(tok) for tok in row]\n"
   ]
  },
  {
   "cell_type": "code",
   "execution_count": 69,
   "id": "6c785a2f",
   "metadata": {},
   "outputs": [],
   "source": [
    "df_time.to_csv('/Users/matsunagatakahiro/Desktop/jrres/PPcameraTG/gpslog/timelog_finalinput_hour.csv', index=False, header=False)"
   ]
  }
 ],
 "metadata": {
  "kernelspec": {
   "display_name": "myenv",
   "language": "python",
   "name": "python3"
  },
  "language_info": {
   "codemirror_mode": {
    "name": "ipython",
    "version": 3
   },
   "file_extension": ".py",
   "mimetype": "text/x-python",
   "name": "python",
   "nbconvert_exporter": "python",
   "pygments_lexer": "ipython3",
   "version": "3.9.18"
  }
 },
 "nbformat": 4,
 "nbformat_minor": 5
}
