{
 "cells": [
  {
   "cell_type": "markdown",
   "id": "6ea0a78f",
   "metadata": {},
   "source": [
    "各時期の属性データの作成"
   ]
  },
  {
   "cell_type": "code",
   "execution_count": 2,
   "id": "b1bf30f4",
   "metadata": {},
   "outputs": [],
   "source": [
    "import pandas as pd\n",
    "import numpy as np\n",
    "import os\n",
    "import sys"
   ]
  },
  {
   "cell_type": "code",
   "execution_count": 31,
   "id": "9fca225a",
   "metadata": {},
   "outputs": [],
   "source": [
    "df_attri_22 = pd.read_excel('/Users/matsunagatakahiro/Desktop/jrres/PPcameraTG/q_rawans_202212/個人属性・意識・工事認知.xlsx')\n",
    "df_attri_23 = pd.read_excel('/Users/matsunagatakahiro/Desktop/jrres/PPcameraTG/q_rawans_202311/個人属性.xlsx')\n",
    "df_attri_21 = pd.read_excel('/Users/matsunagatakahiro/Desktop/jrres/PPcameraTG/gpslog/99_202110/PP被験者リスト/【送付】モニターリスト_1117のコピー.xlsx')\n",
    "df_attri_toyosu = pd.read_excel('/Users/matsunagatakahiro/Desktop/jrres/PPcameraTG/gpslog/toyosu_2019/2018豊洲PP調査_個人属性データ.xlsx')\n",
    "\n",
    "df_attri_22.to_csv('/Users/matsunagatakahiro/Desktop/jrres/PPcameraTG/q_rawans_202212/attri_22.csv', index=False)\n",
    "df_attri_23.to_csv('/Users/matsunagatakahiro/Desktop/jrres/PPcameraTG/q_rawans_202311/attri_23.csv', index=False)\n",
    "df_attri_21.to_csv('/Users/matsunagatakahiro/Desktop/jrres/PPcameraTG/gpslog/99_202110/PP被験者リスト/attri_21.csv', index=False)\n",
    "df_attri_toyosu.to_csv('/Users/matsunagatakahiro/Desktop/jrres/PPcameraTG/gpslog/toyosu_2019/attri_toyosu.csv', index=False)"
   ]
  },
  {
   "cell_type": "code",
   "execution_count": 32,
   "id": "7c1d1af5",
   "metadata": {},
   "outputs": [],
   "source": [
    "df_attri_all = pd.DataFrame(columns=['userid', 'age', 'gender', 'homezone', 'workzone'])"
   ]
  },
  {
   "cell_type": "code",
   "execution_count": 33,
   "id": "e0725626",
   "metadata": {},
   "outputs": [
    {
     "name": "stdout",
     "output_type": "stream",
     "text": [
      "    userid  age  gender  homezone  workzone\n",
      "0    23001   47       0       NaN       NaN\n",
      "1    23003   42       0       NaN       NaN\n",
      "2    23004   37       1       NaN       NaN\n",
      "3    23006   51       1       NaN       NaN\n",
      "4    23007   21       0       NaN       NaN\n",
      "..     ...  ...     ...       ...       ...\n",
      "250  23256   46       0       NaN       NaN\n",
      "251  23257   45       0       NaN       NaN\n",
      "252  23258   40       0       NaN       NaN\n",
      "253  23259   51       0       NaN       NaN\n",
      "254  23260   33       1       NaN       NaN\n",
      "\n",
      "[255 rows x 5 columns]\n"
     ]
    },
    {
     "name": "stderr",
     "output_type": "stream",
     "text": [
      "/var/folders/_k/qgnv6b3961q5nz5l1v78bw080000gn/T/ipykernel_31597/2058471098.py:12: SettingWithCopyWarning: \n",
      "A value is trying to be set on a copy of a slice from a DataFrame.\n",
      "Try using .loc[row_indexer,col_indexer] = value instead\n",
      "\n",
      "See the caveats in the documentation: https://pandas.pydata.org/pandas-docs/stable/user_guide/indexing.html#returning-a-view-versus-a-copy\n",
      "  df_22_extracted['homezone'] = np.nan\n",
      "/var/folders/_k/qgnv6b3961q5nz5l1v78bw080000gn/T/ipykernel_31597/2058471098.py:13: SettingWithCopyWarning: \n",
      "A value is trying to be set on a copy of a slice from a DataFrame.\n",
      "Try using .loc[row_indexer,col_indexer] = value instead\n",
      "\n",
      "See the caveats in the documentation: https://pandas.pydata.org/pandas-docs/stable/user_guide/indexing.html#returning-a-view-versus-a-copy\n",
      "  df_22_extracted['workzone'] = np.nan\n"
     ]
    }
   ],
   "source": [
    "# dataごとに異なるので個別におこなう\n",
    "# 抽出するのは、被験者IDと性別、年齢、職業、居住地（職場，居住地は今回はnan）\n",
    "\n",
    "df_attri_22 = pd.read_csv('/Users/matsunagatakahiro/Desktop/jrres/PPcameraTG/q_rawans_202212/attri_22.csv')\n",
    "# print(df_attri_22)\n",
    "# df_attri_22['userid'] = str(23) + str(df_attri_22['id'].split('s')[1])\n",
    "df_attri_22['userid'] = df_attri_22['id'].apply(lambda x: '23' + x.split('s')[1])\n",
    "# print(df_attri_22.columns)\n",
    "# print(df_attri_22['userid'])\n",
    "\n",
    "df_22_extracted = df_attri_22[['userid', 'age', 'gender']]\n",
    "df_22_extracted['homezone'] = np.nan\n",
    "df_22_extracted['workzone'] = np.nan\n",
    "print(df_22_extracted)"
   ]
  },
  {
   "cell_type": "code",
   "execution_count": 39,
   "id": "fdc1b301",
   "metadata": {},
   "outputs": [
    {
     "name": "stdout",
     "output_type": "stream",
     "text": [
      "Index(['NO', 'login_id', '生年月日', '性別', '居住地1', '居住地2', '職業', 'JR渋谷駅を利用する頻度',\n",
      "       'situation_1', 'situation_2', 'situation_3', 'situation_4',\n",
      "       'situation_5', 'situation_6', 'situation_7', 'situation_8',\n",
      "       'situation_9', 'situation_10', 'situation_11', 'situation_12',\n",
      "       'situation_13', 'situation_14', 'transportation_1', 'transportation_2',\n",
      "       'transportation_3', 'transportation_4', 'transportation_5',\n",
      "       'transportation_6', 'transportation_7', 'transportation_8', 'age',\n",
      "       'ログインID', 'ユーザID'],\n",
      "      dtype='object')\n",
      "     userid  age  gender  homezone  workzone\n",
      "0     23601   24       0       NaN       NaN\n",
      "1     23602   39       1       NaN       NaN\n",
      "2     23603   31       0       NaN       NaN\n",
      "3     23604   38       1       NaN       NaN\n",
      "4     23605   30       0       NaN       NaN\n",
      "..      ...  ...     ...       ...       ...\n",
      "264   23865   52       1       NaN       NaN\n",
      "265   23866   27       1       NaN       NaN\n",
      "266   23867   39       0       NaN       NaN\n",
      "267   23868   44       1       NaN       NaN\n",
      "268   23869   41       1       NaN       NaN\n",
      "\n",
      "[269 rows x 5 columns]\n"
     ]
    },
    {
     "name": "stderr",
     "output_type": "stream",
     "text": [
      "/var/folders/_k/qgnv6b3961q5nz5l1v78bw080000gn/T/ipykernel_31597/434234429.py:20: SettingWithCopyWarning: \n",
      "A value is trying to be set on a copy of a slice from a DataFrame.\n",
      "Try using .loc[row_indexer,col_indexer] = value instead\n",
      "\n",
      "See the caveats in the documentation: https://pandas.pydata.org/pandas-docs/stable/user_guide/indexing.html#returning-a-view-versus-a-copy\n",
      "  df_23_extracted['homezone'] = np.nan\n",
      "/var/folders/_k/qgnv6b3961q5nz5l1v78bw080000gn/T/ipykernel_31597/434234429.py:21: SettingWithCopyWarning: \n",
      "A value is trying to be set on a copy of a slice from a DataFrame.\n",
      "Try using .loc[row_indexer,col_indexer] = value instead\n",
      "\n",
      "See the caveats in the documentation: https://pandas.pydata.org/pandas-docs/stable/user_guide/indexing.html#returning-a-view-versus-a-copy\n",
      "  df_23_extracted['workzone'] = np.nan\n"
     ]
    }
   ],
   "source": [
    "df_attri_23 = pd.read_csv('/Users/matsunagatakahiro/Desktop/jrres/PPcameraTG/q_rawans_202311/attri_23.csv', header = 1)\n",
    "df_attri_23_2 = pd.read_excel('/Users/matsunagatakahiro/Desktop/jrres/PPcameraTG/q_rawans_202311/ID対応一覧.xlsx')\n",
    "df_attri_23_2.to_csv('/Users/matsunagatakahiro/Desktop/jrres/PPcameraTG/q_rawans_202311/attri_23_2.csv', index=False)\n",
    "df_attri_23_2 = pd.read_csv('/Users/matsunagatakahiro/Desktop/jrres/PPcameraTG/q_rawans_202311/attri_23_2.csv')\n",
    "# print(df_attri_23.columns)\n",
    "# print(df_attri_23)\n",
    "import datetime\n",
    "# df_attri_23['生年月日'] = pd.to_datetime(df_attri_23['生年月日'], format='y')\n",
    "df_attri_23['生年月日'] = pd.to_datetime(df_attri_23['生年月日'])\n",
    "df_attri_23['age'] = 2023 - df_attri_23['生年月日'].dt.year\n",
    "# df_attri_23['age'] = df_attri_23['生年月日'].apply(lambda x: 2025 - x).days\n",
    "# df_attri_23['userid'] = df_attri_23_2[df_attri_23_2['ログインID'] == df_attri_23['login_id']] # df_attri_23['login_id'].apply(lambda x: '23' + x.split('y')[1])\n",
    "df_merged = pd.merge(df_attri_23, df_attri_23_2[['ログインID', 'ユーザID']], left_on='login_id', right_on='ログインID', how='left')\n",
    "print(df_merged.columns)\n",
    "# sys.exit()\n",
    "# print(df_attri_22.columns)\n",
    "# print(df_attri_22['userid'])\n",
    "\n",
    "df_23_extracted = df_merged[['ユーザID', 'age', '性別']]\n",
    "df_23_extracted['homezone'] = np.nan\n",
    "df_23_extracted['workzone'] = np.nan\n",
    "df_23_extracted = df_23_extracted.rename(columns={'ユーザID': 'userid', '性別': 'gender'})\n",
    "print(df_23_extracted)\n"
   ]
  },
  {
   "cell_type": "code",
   "execution_count": 40,
   "id": "ff2abd3c",
   "metadata": {},
   "outputs": [
    {
     "name": "stdout",
     "output_type": "stream",
     "text": [
      "     userid  age  gender  homezone  workzone\n",
      "0     21401   50     NaN       NaN       NaN\n",
      "1     21402   39     NaN       NaN       NaN\n",
      "2     21403   45     NaN       NaN       NaN\n",
      "3     21404   34     NaN       NaN       NaN\n",
      "4     21405   38     NaN       NaN       NaN\n",
      "..      ...  ...     ...       ...       ...\n",
      "131   21532   46     NaN       NaN       NaN\n",
      "132   21533   43     NaN       NaN       NaN\n",
      "133   21534   46     NaN       NaN       NaN\n",
      "134   21535   40     NaN       NaN       NaN\n",
      "135   21536   38     NaN       NaN       NaN\n",
      "\n",
      "[136 rows x 5 columns]\n"
     ]
    },
    {
     "name": "stderr",
     "output_type": "stream",
     "text": [
      "/var/folders/_k/qgnv6b3961q5nz5l1v78bw080000gn/T/ipykernel_31597/1548119830.py:4: SettingWithCopyWarning: \n",
      "A value is trying to be set on a copy of a slice from a DataFrame.\n",
      "Try using .loc[row_indexer,col_indexer] = value instead\n",
      "\n",
      "See the caveats in the documentation: https://pandas.pydata.org/pandas-docs/stable/user_guide/indexing.html#returning-a-view-versus-a-copy\n",
      "  df_21_extracted['gender'] = np.nan\n",
      "/var/folders/_k/qgnv6b3961q5nz5l1v78bw080000gn/T/ipykernel_31597/1548119830.py:5: SettingWithCopyWarning: \n",
      "A value is trying to be set on a copy of a slice from a DataFrame.\n",
      "Try using .loc[row_indexer,col_indexer] = value instead\n",
      "\n",
      "See the caveats in the documentation: https://pandas.pydata.org/pandas-docs/stable/user_guide/indexing.html#returning-a-view-versus-a-copy\n",
      "  df_21_extracted['homezone'] = np.nan\n",
      "/var/folders/_k/qgnv6b3961q5nz5l1v78bw080000gn/T/ipykernel_31597/1548119830.py:6: SettingWithCopyWarning: \n",
      "A value is trying to be set on a copy of a slice from a DataFrame.\n",
      "Try using .loc[row_indexer,col_indexer] = value instead\n",
      "\n",
      "See the caveats in the documentation: https://pandas.pydata.org/pandas-docs/stable/user_guide/indexing.html#returning-a-view-versus-a-copy\n",
      "  df_21_extracted['workzone'] = np.nan\n"
     ]
    }
   ],
   "source": [
    "df_attri_21 = pd.read_csv('/Users/matsunagatakahiro/Desktop/jrres/PPcameraTG/gpslog/99_202110/PP被験者リスト/attri_21.csv')\n",
    "\n",
    "df_21_extracted = df_attri_21[['ID', 'age']] #, 'gender']]\n",
    "df_21_extracted['gender'] = np.nan\n",
    "df_21_extracted['homezone'] = np.nan\n",
    "df_21_extracted['workzone'] = np.nan\n",
    "\n",
    "df_21_extracted = df_21_extracted.rename(columns={'ID': 'userid'})\n",
    "print(df_21_extracted)"
   ]
  },
  {
   "cell_type": "markdown",
   "id": "5a3e5af7",
   "metadata": {},
   "source": [
    "豊洲のは属性がない"
   ]
  },
  {
   "cell_type": "code",
   "execution_count": null,
   "id": "7f36f3df",
   "metadata": {},
   "outputs": [
    {
     "name": "stdout",
     "output_type": "stream",
     "text": [
      "Index(['Unnamed: 0', 'TFシステムID', 'モニターID', '性別', '生年月日', '年齢', '登録日', '辞退日',\n",
      "       '有効フラグ', 'アンケート回答', '備考'],\n",
      "      dtype='object')\n"
     ]
    },
    {
     "ename": "KeyError",
     "evalue": "\"None of [Index(['userid', 'age', 'gender'], dtype='object')] are in the [columns]\"",
     "output_type": "error",
     "traceback": [
      "\u001b[0;31m---------------------------------------------------------------------------\u001b[0m",
      "\u001b[0;31mKeyError\u001b[0m                                  Traceback (most recent call last)",
      "Cell \u001b[0;32mIn[38], line 9\u001b[0m\n\u001b[1;32m      2\u001b[0m \u001b[38;5;28mprint\u001b[39m(df_attri_toyosu\u001b[38;5;241m.\u001b[39mcolumns)\n\u001b[1;32m      3\u001b[0m \u001b[38;5;66;03m# print(df_attri_toyosu)\u001b[39;00m\n\u001b[1;32m      4\u001b[0m \u001b[38;5;66;03m# sys.exit()\u001b[39;00m\n\u001b[1;32m      5\u001b[0m \u001b[38;5;66;03m# df_attri_22['userid'] = str(23) + str(df_attri_22['id'].split('s')[1])\u001b[39;00m\n\u001b[1;32m      6\u001b[0m \u001b[38;5;66;03m# print(df_attri_22.columns)\u001b[39;00m\n\u001b[1;32m      7\u001b[0m \u001b[38;5;66;03m# print(df_attri_22['userid'])\u001b[39;00m\n\u001b[0;32m----> 9\u001b[0m df_toyosu_extracted \u001b[38;5;241m=\u001b[39m \u001b[43mdf_attri_toyosu\u001b[49m\u001b[43m[\u001b[49m\u001b[43m[\u001b[49m\u001b[38;5;124;43m'\u001b[39;49m\u001b[38;5;124;43muserid\u001b[39;49m\u001b[38;5;124;43m'\u001b[39;49m\u001b[43m,\u001b[49m\u001b[43m \u001b[49m\u001b[38;5;124;43m'\u001b[39;49m\u001b[38;5;124;43mage\u001b[39;49m\u001b[38;5;124;43m'\u001b[39;49m\u001b[43m,\u001b[49m\u001b[43m \u001b[49m\u001b[38;5;124;43m'\u001b[39;49m\u001b[38;5;124;43mgender\u001b[39;49m\u001b[38;5;124;43m'\u001b[39;49m\u001b[43m]\u001b[49m\u001b[43m]\u001b[49m\n\u001b[1;32m     10\u001b[0m df_toyosu_extracted[\u001b[38;5;124m'\u001b[39m\u001b[38;5;124mhomezone\u001b[39m\u001b[38;5;124m'\u001b[39m] \u001b[38;5;241m=\u001b[39m np\u001b[38;5;241m.\u001b[39mnan\n\u001b[1;32m     11\u001b[0m df_toyosu_extracted[\u001b[38;5;124m'\u001b[39m\u001b[38;5;124mworkzone\u001b[39m\u001b[38;5;124m'\u001b[39m] \u001b[38;5;241m=\u001b[39m np\u001b[38;5;241m.\u001b[39mnan\n",
      "File \u001b[0;32m~/Desktop/res2025/myenv/lib/python3.9/site-packages/pandas/core/frame.py:4108\u001b[0m, in \u001b[0;36mDataFrame.__getitem__\u001b[0;34m(self, key)\u001b[0m\n\u001b[1;32m   4106\u001b[0m     \u001b[38;5;28;01mif\u001b[39;00m is_iterator(key):\n\u001b[1;32m   4107\u001b[0m         key \u001b[38;5;241m=\u001b[39m \u001b[38;5;28mlist\u001b[39m(key)\n\u001b[0;32m-> 4108\u001b[0m     indexer \u001b[38;5;241m=\u001b[39m \u001b[38;5;28;43mself\u001b[39;49m\u001b[38;5;241;43m.\u001b[39;49m\u001b[43mcolumns\u001b[49m\u001b[38;5;241;43m.\u001b[39;49m\u001b[43m_get_indexer_strict\u001b[49m\u001b[43m(\u001b[49m\u001b[43mkey\u001b[49m\u001b[43m,\u001b[49m\u001b[43m \u001b[49m\u001b[38;5;124;43m\"\u001b[39;49m\u001b[38;5;124;43mcolumns\u001b[39;49m\u001b[38;5;124;43m\"\u001b[39;49m\u001b[43m)\u001b[49m[\u001b[38;5;241m1\u001b[39m]\n\u001b[1;32m   4110\u001b[0m \u001b[38;5;66;03m# take() does not accept boolean indexers\u001b[39;00m\n\u001b[1;32m   4111\u001b[0m \u001b[38;5;28;01mif\u001b[39;00m \u001b[38;5;28mgetattr\u001b[39m(indexer, \u001b[38;5;124m\"\u001b[39m\u001b[38;5;124mdtype\u001b[39m\u001b[38;5;124m\"\u001b[39m, \u001b[38;5;28;01mNone\u001b[39;00m) \u001b[38;5;241m==\u001b[39m \u001b[38;5;28mbool\u001b[39m:\n",
      "File \u001b[0;32m~/Desktop/res2025/myenv/lib/python3.9/site-packages/pandas/core/indexes/base.py:6200\u001b[0m, in \u001b[0;36mIndex._get_indexer_strict\u001b[0;34m(self, key, axis_name)\u001b[0m\n\u001b[1;32m   6197\u001b[0m \u001b[38;5;28;01melse\u001b[39;00m:\n\u001b[1;32m   6198\u001b[0m     keyarr, indexer, new_indexer \u001b[38;5;241m=\u001b[39m \u001b[38;5;28mself\u001b[39m\u001b[38;5;241m.\u001b[39m_reindex_non_unique(keyarr)\n\u001b[0;32m-> 6200\u001b[0m \u001b[38;5;28;43mself\u001b[39;49m\u001b[38;5;241;43m.\u001b[39;49m\u001b[43m_raise_if_missing\u001b[49m\u001b[43m(\u001b[49m\u001b[43mkeyarr\u001b[49m\u001b[43m,\u001b[49m\u001b[43m \u001b[49m\u001b[43mindexer\u001b[49m\u001b[43m,\u001b[49m\u001b[43m \u001b[49m\u001b[43maxis_name\u001b[49m\u001b[43m)\u001b[49m\n\u001b[1;32m   6202\u001b[0m keyarr \u001b[38;5;241m=\u001b[39m \u001b[38;5;28mself\u001b[39m\u001b[38;5;241m.\u001b[39mtake(indexer)\n\u001b[1;32m   6203\u001b[0m \u001b[38;5;28;01mif\u001b[39;00m \u001b[38;5;28misinstance\u001b[39m(key, Index):\n\u001b[1;32m   6204\u001b[0m     \u001b[38;5;66;03m# GH 42790 - Preserve name from an Index\u001b[39;00m\n",
      "File \u001b[0;32m~/Desktop/res2025/myenv/lib/python3.9/site-packages/pandas/core/indexes/base.py:6249\u001b[0m, in \u001b[0;36mIndex._raise_if_missing\u001b[0;34m(self, key, indexer, axis_name)\u001b[0m\n\u001b[1;32m   6247\u001b[0m \u001b[38;5;28;01mif\u001b[39;00m nmissing:\n\u001b[1;32m   6248\u001b[0m     \u001b[38;5;28;01mif\u001b[39;00m nmissing \u001b[38;5;241m==\u001b[39m \u001b[38;5;28mlen\u001b[39m(indexer):\n\u001b[0;32m-> 6249\u001b[0m         \u001b[38;5;28;01mraise\u001b[39;00m \u001b[38;5;167;01mKeyError\u001b[39;00m(\u001b[38;5;124mf\u001b[39m\u001b[38;5;124m\"\u001b[39m\u001b[38;5;124mNone of [\u001b[39m\u001b[38;5;132;01m{\u001b[39;00mkey\u001b[38;5;132;01m}\u001b[39;00m\u001b[38;5;124m] are in the [\u001b[39m\u001b[38;5;132;01m{\u001b[39;00maxis_name\u001b[38;5;132;01m}\u001b[39;00m\u001b[38;5;124m]\u001b[39m\u001b[38;5;124m\"\u001b[39m)\n\u001b[1;32m   6251\u001b[0m     not_found \u001b[38;5;241m=\u001b[39m \u001b[38;5;28mlist\u001b[39m(ensure_index(key)[missing_mask\u001b[38;5;241m.\u001b[39mnonzero()[\u001b[38;5;241m0\u001b[39m]]\u001b[38;5;241m.\u001b[39munique())\n\u001b[1;32m   6252\u001b[0m     \u001b[38;5;28;01mraise\u001b[39;00m \u001b[38;5;167;01mKeyError\u001b[39;00m(\u001b[38;5;124mf\u001b[39m\u001b[38;5;124m\"\u001b[39m\u001b[38;5;132;01m{\u001b[39;00mnot_found\u001b[38;5;132;01m}\u001b[39;00m\u001b[38;5;124m not in index\u001b[39m\u001b[38;5;124m\"\u001b[39m)\n",
      "\u001b[0;31mKeyError\u001b[0m: \"None of [Index(['userid', 'age', 'gender'], dtype='object')] are in the [columns]\""
     ]
    }
   ],
   "source": [
    "df_attri_toyosu = pd.read_csv('/Users/matsunagatakahiro/Desktop/jrres/PPcameraTG/gpslog/toyosu_2019/attri_toyosu.csv', header = 4)\n",
    "print(df_attri_toyosu.columns)\n",
    "# print(df_attri_toyosu)\n",
    "# sys.exit()\n",
    "# df_attri_22['userid'] = str(23) + str(df_attri_22['id'].split('s')[1])\n",
    "# print(df_attri_22.columns)\n",
    "# print(df_attri_22['userid'])\n",
    "\n",
    "\n",
    "df_toyosu_extracted = df_attri_toyosu[['年齢', '性別']]\n",
    "df_toyosu_extracted['homezone'] = np.nan\n",
    "df_toyosu_extracted['workzone'] = np.nan\n",
    "print(df_toyosu_extracted)\n",
    "\n",
    "\n",
    "# df_toyosu_extraccted = df_attri_toyosu[['モニターID', '年齢', '性別']]\n",
    "# df_toyosu_extraccted['homezone'] = np.nan\n",
    "# df_toyosu_extraccted['workzone'] = np.nan"
   ]
  },
  {
   "cell_type": "code",
   "execution_count": 41,
   "id": "abc1ca01",
   "metadata": {},
   "outputs": [
    {
     "name": "stdout",
     "output_type": "stream",
     "text": [
      "    userid  age  gender  homezone  workzone\n",
      "0    23001   47     0.0       NaN       NaN\n",
      "1    23003   42     0.0       NaN       NaN\n",
      "2    23004   37     1.0       NaN       NaN\n",
      "3    23006   51     1.0       NaN       NaN\n",
      "4    23007   21     0.0       NaN       NaN\n",
      "..     ...  ...     ...       ...       ...\n",
      "655  21532   46     NaN       NaN       NaN\n",
      "656  21533   43     NaN       NaN       NaN\n",
      "657  21534   46     NaN       NaN       NaN\n",
      "658  21535   40     NaN       NaN       NaN\n",
      "659  21536   38     NaN       NaN       NaN\n",
      "\n",
      "[660 rows x 5 columns]\n"
     ]
    }
   ],
   "source": [
    "# \n",
    "df_attri_all = pd.concat([df_22_extracted, df_23_extracted, df_21_extracted], ignore_index=True)\n",
    "print(df_attri_all)"
   ]
  },
  {
   "cell_type": "code",
   "execution_count": 42,
   "id": "4ec93331",
   "metadata": {},
   "outputs": [],
   "source": [
    "df_attri_all.to_csv('/Users/matsunagatakahiro/Desktop/jrres/PPcameraTG/gpslog/attri_all.csv', index=False)"
   ]
  },
  {
   "cell_type": "code",
   "execution_count": null,
   "id": "016c7069",
   "metadata": {},
   "outputs": [],
   "source": []
  }
 ],
 "metadata": {
  "kernelspec": {
   "display_name": "myenv",
   "language": "python",
   "name": "python3"
  },
  "language_info": {
   "codemirror_mode": {
    "name": "ipython",
    "version": 3
   },
   "file_extension": ".py",
   "mimetype": "text/x-python",
   "name": "python",
   "nbconvert_exporter": "python",
   "pygments_lexer": "ipython3",
   "version": "3.9.18"
  }
 },
 "nbformat": 4,
 "nbformat_minor": 5
}
