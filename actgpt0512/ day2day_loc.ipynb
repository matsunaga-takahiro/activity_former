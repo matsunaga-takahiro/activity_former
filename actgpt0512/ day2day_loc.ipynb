{
 "cells": [
  {
   "cell_type": "markdown",
   "id": "da038142",
   "metadata": {},
   "source": [
    " PPからlocationシーケンスの生成"
   ]
  },
  {
   "cell_type": "code",
   "execution_count": 1,
   "id": "c0e521eb",
   "metadata": {},
   "outputs": [],
   "source": [
    "import pandas as pd \n",
    "import numpy as np \n",
    "import os \n",
    "import sys"
   ]
  },
  {
   "cell_type": "code",
   "execution_count": 5,
   "id": "f1cfe4fa",
   "metadata": {},
   "outputs": [
    {
     "name": "stdout",
     "output_type": "stream",
     "text": [
      "['.DS_Store', '10028_20221212', '10028_20221213', '10028_20221214', '10028_20221215', '10028_20221216', '10028_20221217', '10028_20221218', '10028_20221219', '10028_20221220', '10028_20221221', '10028_20221222', '10028_20221223', '10028_20221224', '10028_20221225', '10028_20230107', '10028_20230108', '10028_20230109', '10028_20230110', '10028_20230111', '10028_20230112', '10028_20230113', '10028_20230124', '10028_20230125', '10028_20230126', '10028_20230127', '10028_20230128', '10028_20230129', '10028_20230130']\n",
      "User ID: 23001, Activities: [310, 300, 110], Times: ['2022-12-12 07:03:35', '2022-12-12 10:55:36', '2022-12-12 12:25:23']\n",
      "User ID: 23001, Time: 2022-12-12 07:03:35, Latitude: 35.736969, Longitude: 139.658455\n",
      "User ID: 23001, Time: 2022-12-12 10:55:36, Latitude: 35.643549, Longitude: 139.670226\n",
      "User ID: 23001, Time: 2022-12-12 12:25:23, Latitude: 35.738042, Longitude: 139.654243\n",
      "  ユーザーID                記録日時         緯度          経度\n",
      "0  23001 2022-12-12 07:03:35  35.736969  139.658455\n",
      "1  23001 2022-12-12 10:55:36  35.643549  139.670226\n",
      "2  23001 2022-12-12 12:25:23  35.738042  139.654243\n"
     ]
    },
    {
     "name": "stderr",
     "output_type": "stream",
     "text": [
      "/var/folders/_k/qgnv6b3961q5nz5l1v78bw080000gn/T/ipykernel_3993/4205298441.py:66: FutureWarning: The behavior of DataFrame concatenation with empty or all-NA entries is deprecated. In a future version, this will no longer exclude empty or all-NA columns when determining the result dtypes. To retain the old behavior, exclude the relevant entries before the concat operation.\n",
      "  df_latlon = pd.concat([df_latlon, new_row], ignore_index=True)\n"
     ]
    },
    {
     "ename": "SystemExit",
     "evalue": "",
     "output_type": "error",
     "traceback": [
      "An exception has occurred, use %tb to see the full traceback.\n",
      "\u001b[0;31mSystemExit\u001b[0m\n"
     ]
    },
    {
     "name": "stderr",
     "output_type": "stream",
     "text": [
      "/Users/matsunagatakahiro/Desktop/res2025/myenv/lib/python3.9/site-packages/IPython/core/interactiveshell.py:3558: UserWarning: To exit: use 'exit', 'quit', or Ctrl-D.\n",
      "  warn(\"To exit: use 'exit', 'quit', or Ctrl-D.\", stacklevel=1)\n"
     ]
    }
   ],
   "source": [
    "# trip dataの出発時刻に併せて loc_dataからlon, latを取り出す\n",
    "base_path0 = '/Users/matsunagatakahiro/Desktop/jrres/PPcameraTG/gpslog'#/04_202212old'\n",
    "dataset_list = ['04_202212old', '04_202301new', '05_202311', 'toyosu_2019/201907-202002', '99_202110/logs']\n",
    "nameid_list = ['01', '02', '03', 'toyosu', 'shibu21']\n",
    "\n",
    "for datasetid, dataset in enumerate(dataset_list):\n",
    "    base_path = os.path.join(base_path0, dataset)\n",
    "    folderlist = os.listdir(base_path)\n",
    "    user_log_dict = {}\n",
    "    user_count_dict = {} # 何日登場したかのカウント\n",
    "    user_lon_traj = {} # key: userid, value: time trajectory\n",
    "    user_lat_traj = {} # key: userid, value: act trajectory\n",
    "    nokitaku_count = 0\n",
    "    all_count = 0\n",
    "    folderlist = sorted(folderlist)\n",
    "    print(folderlist)\n",
    "\n",
    "    df_latlon = pd.DataFrame(columns=['ユーザーID', '記録日時', '緯度', '経度'])\n",
    "    for folder in folderlist: # 個人\n",
    "        if not os.path.isdir(os.path.join(base_path, folder)):\n",
    "            continue\n",
    "\n",
    "        filelist = os.listdir(os.path.join(base_path, folder))\n",
    "        df_trip = pd.read_csv(os.path.join(base_path, folder, 't_trip.csv'), encoding='shift-jis')\n",
    "        df_loc = pd.read_csv(os.path.join(base_path, folder, 't_loc_data.csv'), encoding='shift-jis')\n",
    "        df_loc['記録日時'] = pd.to_datetime(df_loc['記録日時'].str.split('.').str[0], errors='coerce') # 秒の小数点以下を切り捨て\n",
    "\n",
    "        grouped = df_trip.groupby('ユーザーID')\n",
    "        for user_id, group in grouped: # 個人ごと\n",
    "            userid = group['ユーザーID'].values[0]\n",
    "            group = group.sort_values(by='出発時刻')\n",
    "            acts = list(group['目的コード（active）']) # 系列\n",
    "            times = list(group['出発時刻']) # 系列\n",
    "\n",
    "            print(f\"User ID: {userid}, Activities: {acts}, Times: {times}\")\n",
    "\n",
    "            for i, time in enumerate(times):\n",
    "                # lat = df_loc[(df_loc['ユーザーID'] == userid) & (df_loc['記録日時'] == time)]['緯度'].values\n",
    "                # lon = df_loc[(df_loc['ユーザーID'] == userid) & (df_loc['記録日時'] == time)]['経度'].values\n",
    "                time = pd.to_datetime(time, errors='coerce')  # ← ここで変換\n",
    "\n",
    "                user_loc_df = df_loc[df_loc['ユーザーID'] == userid].copy()\n",
    "\n",
    "                if user_loc_df.empty or pd.isna(time):\n",
    "                    continue\n",
    "                # 時刻差を計算\n",
    "                user_loc_df['time_diff'] = (user_loc_df['記録日時'] - time).abs()\n",
    "\n",
    "                # 最小差分の行を取得（NaTは自動除外される）\n",
    "                nearest_row = user_loc_df.loc[user_loc_df['time_diff'].idxmin()]\n",
    "                lat = nearest_row['緯度']\n",
    "                lon = nearest_row['経度']\n",
    "\n",
    "                ## ここでメッシュデータに変換したほうがいい：\n",
    "                ## 250mメッシュとの対応をとる\n",
    "\n",
    "                print(f\"User ID: {userid}, Time: {time}, Latitude: {lat}, Longitude: {lon}\")\n",
    "\n",
    "                new_row = pd.DataFrame({\n",
    "                    'ユーザーID': [userid],\n",
    "                    '記録日時': [time],\n",
    "                    '緯度': [lat],\n",
    "                    '経度': [lon]\n",
    "                })\n",
    "\n",
    "                df_latlon = pd.concat([df_latlon, new_row], ignore_index=True)\n",
    "            print(df_latlon)\n",
    "            sys.exit()\n",
    "    print(df_latlon)\n",
    "    sys.exit()\n",
    "    # /Users/matsunagatakahiro/Desktop/res2025/ActFormer/RoutesFormer/output\n",
    "    df_latlon.to_csv(('/Users/matsunagatakahiro/Desktop/res2025/ActFormer/RoutesFormer/output' + folder +  'latlon01.csv'), index=False, encoding='shift-jis')"
   ]
  },
  {
   "cell_type": "code",
   "execution_count": null,
   "id": "065098f3",
   "metadata": {},
   "outputs": [],
   "source": []
  },
  {
   "cell_type": "code",
   "execution_count": null,
   "id": "b1049685",
   "metadata": {},
   "outputs": [],
   "source": []
  }
 ],
 "metadata": {
  "kernelspec": {
   "display_name": "myenv",
   "language": "python",
   "name": "python3"
  },
  "language_info": {
   "codemirror_mode": {
    "name": "ipython",
    "version": 3
   },
   "file_extension": ".py",
   "mimetype": "text/x-python",
   "name": "python",
   "nbconvert_exporter": "python",
   "pygments_lexer": "ipython3",
   "version": "3.9.18"
  }
 },
 "nbformat": 4,
 "nbformat_minor": 5
}
